{
 "cells": [
  {
   "cell_type": "code",
   "execution_count": 25,
   "id": "aab82035-6227-4388-b70c-9d603569d706",
   "metadata": {},
   "outputs": [],
   "source": [
    "import re\n",
    "import numpy as np\n",
    "\n",
    "test=\"\"\"Time:      7  15   30\n",
    "Distance:  9  40  200\"\"\"\n",
    "\n",
    "real=\"\"\"Time:        53     71     78     80\n",
    "Distance:   275   1181   1215   1524\"\"\""
   ]
  },
  {
   "cell_type": "code",
   "execution_count": 64,
   "id": "8020932d-6c3f-44b3-87ff-6904f02792bd",
   "metadata": {},
   "outputs": [
    {
     "name": "stdout",
     "output_type": "stream",
     "text": [
      "['53' '71' '78' '80' '275' '1181' '1215' '1524']\n",
      "[['53' '275']\n",
      " ['71' '1181']\n",
      " ['78' '1215']\n",
      " ['80' '1524']]\n",
      "[['53' '275']\n",
      " ['71' '1181']\n",
      " ['78' '1215']\n",
      " ['80' '1524']]\n",
      "42.0\n",
      "449820.0\n",
      "[array(['53717880', '275118112151524'], dtype='<U32')]\n",
      "[array(['53717880', '275118112151524'], dtype='<U32')]\n",
      "42250895.0\n"
     ]
    }
   ],
   "source": [
    "rows = re.split(\"\\n\", real)\n",
    "table = np.array([])\n",
    "for eachRow in rows:\n",
    "    eachRow = eachRow.split()\n",
    "    eachRow.pop(0)\n",
    "    table = np.append(table, eachRow)\n",
    "print(table)\n",
    "table = table.reshape(2, int(len(table)/2)).T\n",
    "print(table)\n",
    "\n",
    "\n",
    "\n",
    "def numWins(tableValues):\n",
    "    print(tableValues)\n",
    "    wins = np.array([])\n",
    "    for eachItem in tableValues:\n",
    "        count = 0\n",
    "        for speed in range(int(eachItem[0])):\n",
    "\n",
    "            timeAvailable = int(eachItem[0])\n",
    "            distanceTarget = int(eachItem[1])\n",
    "            distance = speed*(timeAvailable-speed)\n",
    "            if distance >= distanceTarget:\n",
    "                count+=1\n",
    "        wins = np.append(wins, count)\n",
    "        return np.prod(wins)\n",
    "print(numWins(table))\n",
    "\n",
    "print(answer)\n",
    "\n",
    "\n",
    "table = table.T\n",
    "\n",
    "\n",
    "newTable = np.array([[]])\n",
    "for eachItem in table:\n",
    "    newNum = \"\"\n",
    "    for eachNum in eachItem:\n",
    "        newNum = newNum + eachNum\n",
    "    newTable = np.append(newTable, newNum)\n",
    "    \n",
    "print([newTable])\n",
    "    \n",
    "table = np.char.add(table[0,:], table[1,:])\n",
    "\n",
    "\n",
    "\n",
    "print(numWins([newTable]))"
   ]
  },
  {
   "cell_type": "code",
   "execution_count": null,
   "id": "e4acabef-2e1e-47b9-a0bb-3781a8316d55",
   "metadata": {},
   "outputs": [],
   "source": []
  }
 ],
 "metadata": {
  "kernelspec": {
   "display_name": "Default",
   "language": "python",
   "name": "python3"
  },
  "language_info": {
   "codemirror_mode": {
    "name": "ipython",
    "version": 3
   },
   "file_extension": ".py",
   "mimetype": "text/x-python",
   "name": "python",
   "nbconvert_exporter": "python",
   "pygments_lexer": "ipython3",
   "version": "3.8.17"
  }
 },
 "nbformat": 4,
 "nbformat_minor": 5
}
